{
  "nbformat": 4,
  "nbformat_minor": 0,
  "metadata": {
    "colab": {
      "name": "discrete_methods.ipynb",
      "provenance": [],
      "collapsed_sections": []
    },
    "kernelspec": {
      "name": "python3",
      "display_name": "Python 3"
    },
    "language_info": {
      "name": "python"
    }
  },
  "cells": [
    {
      "cell_type": "markdown",
      "source": [
        "## Baseline (Naive) Range Minimum Query Algorithm \n",
        "\n",
        "Lecture example array"
      ],
      "metadata": {
        "id": "8XGKPrk1-7hJ"
      }
    },
    {
      "cell_type": "code",
      "execution_count": 89,
      "metadata": {
        "colab": {
          "base_uri": "https://localhost:8080/"
        },
        "id": "dX5IvZ7Lfi4T",
        "outputId": "53ba80b0-e430-451d-8e07-9bee911cf676"
      },
      "outputs": [
        {
          "output_type": "stream",
          "name": "stdout",
          "text": [
            "A =  [2, 4, 2, 2, 2, 4, 2, 4, 2]\n",
            "Minimum in range of [3, 9] has the value of (2) at position [3].\n",
            "Array time: 0.00000095367431640625 seconds\n",
            "Query time: 0.0000021457672119140625 seconds       \n",
            "Total execution time: 0.001674652099609375 seconds\n"
          ]
        }
      ],
      "source": [
        "# RMQ(s,t) = argmin A[x] | s \\geq x \\geq t\n",
        "import time\n",
        "import numpy as np \n",
        "\n",
        "# initialize and store index of min value in A[i..j]\n",
        "maximum_value = 100 #dummy value or constraint\n",
        "ref_table = [[0 for j in range(maximum_value)]\n",
        "             for i in range(maximum_value)]\n",
        "  \n",
        "# query class for A[s..t] (left and right)\n",
        "class Query:\n",
        "     \n",
        "    def __init__(self, s, t):\n",
        "         \n",
        "        self.s = s\n",
        "        self.t = t\n",
        "  \n",
        "def preprocess(array, n):\n",
        "    for i in range(n):\n",
        "        ref_table[i][i] = i;\n",
        "  \n",
        "    for i in range(n):\n",
        "        for j in range(i+1, n):\n",
        "            # make comparator\n",
        "            try:\n",
        "              if (array[ref_table[i][j - 1]] < array[j]):\n",
        "                  ref_table[i][j] = ref_table[i][j - 1];\n",
        "              else:\n",
        "                  ref_table[i][j] = j;\n",
        "            except:\n",
        "              continue \n",
        "  \n",
        "# query q ranges in array[0..n-1]\n",
        "def RMQ(array, n, q, m):\n",
        " \n",
        "    # build reference table\n",
        "    preprocess(array, n);\n",
        "  \n",
        "    # One by one compute sum of\n",
        "    # all queries\n",
        "    for i in range(m):\n",
        "        s = q[i].s\n",
        "        t = q[i].t;\n",
        "        A_index = str(A[array[ref_table[s][t]]]+1)\n",
        "\n",
        "        # Print sum of current query range\n",
        "        print(\"Minimum in range of [\" + str(s) + \", \" +\n",
        "               str(t) + \"] has the value of (\" +\n",
        "               str(array[ref_table[s][t]]) + \") at position [\" + A_index + \"].\")\n",
        " \n",
        "# Driver code\n",
        "if __name__ == \"__main__\":\n",
        "    # measure execution time\n",
        "    start_time = time.time()\n",
        "    # lecture array     \n",
        "    # A = [2, 4, 3, 5, 1, 8, 6, 7, 9]\n",
        "    # array containing duplicates (return leftmost)\n",
        "    A = [2, 4, 2, 2, 2, 4, 2, 4, 2]\n",
        "    data_structure_time = time.time()\n",
        "    n = len(A)\n",
        "    # query four quartiles of array\n",
        "    query_start_time = time.time()   \n",
        "    # q = [Query(3, 6),\n",
        "    #      Query(4, 7)]  \n",
        "    q = [Query(3, 9)]    \n",
        "    query_end_time = time.time()\n",
        "    # time single query \n",
        "    # query_start_time_single = time.time()   \n",
        "    # q = [Query(3, 6)]   \n",
        "    # query_end_time_single = time.time()\n",
        "    m = len(q)\n",
        "    print(\"A = \", A)   \n",
        "    RMQ(A, n, q, m)\n",
        "    print(\"Array time: %s seconds\" % np.format_float_positional(data_structure_time - start_time))\n",
        "    print(\"Query time: %s seconds       \" % np.format_float_positional(query_end_time - query_start_time))\n",
        "    # print(\"Single query time: %s seconds\" % np.format_float_positional(query_end_time_single - query_start_time_single))\n",
        "    print(\"Total execution time: %s seconds\" % (time.time() - start_time));"
      ]
    },
    {
      "cell_type": "markdown",
      "source": [
        "## RMQ for Random Arrays\n",
        "NB: permutation library used from numpy to ensure discrete values (testing artefact). This can be omitted for generating an array of non-unique (discrete) values."
      ],
      "metadata": {
        "id": "6HNpe9Jo_HWd"
      }
    },
    {
      "cell_type": "code",
      "source": [
        "# RMQ(s,t) = argmin A[x] | s \\geq x \\geq t\n",
        "import math\n",
        "import time\n",
        "import numpy as np\n",
        "\n",
        "# initialize and store index of min value in A[i..j]\n",
        "maximum_value = 100 #dummy value or constraint\n",
        "ref_table = [[0 for j in range(maximum_value)]\n",
        "             for i in range(maximum_value)]\n",
        "  \n",
        "# query class for A[s..t] (left and right)\n",
        "class Query:\n",
        "    def __init__(self, s, t):     \n",
        "        self.s = s\n",
        "        self.t = t\n",
        "  \n",
        "def preprocess(array, n):\n",
        "    for i in range(n):\n",
        "        ref_table[i][i] = i;\n",
        "  \n",
        "    for i in range(n):\n",
        "        for j in range(i+1, n):\n",
        "            # make comparator\n",
        "            try:\n",
        "              if (array[ref_table[i][j - 1]] < array[j]):\n",
        "                  ref_table[i][j] = ref_table[i][j - 1];\n",
        "              else:\n",
        "                  ref_table[i][j] = j;\n",
        "            except:\n",
        "              continue\n",
        "  \n",
        "# query ranges in arr[0..n-1]\n",
        "def RMQ(array, n, q, m):\n",
        " \n",
        "    # build reference table\n",
        "    preprocess(array, n);\n",
        "  \n",
        "    # compute queries (left and right) and store as int\n",
        "    for i in range(m):\n",
        "        s = q[i].s\n",
        "        t = q[i].t;\n",
        "        A_index = str(A[array[ref_table[s][t]]])\n",
        "\n",
        "        B =  str(array[ref_table[s][t]])\n",
        "        # extract array value as integer (index[0])\n",
        "        B_int = int(B[0])\n",
        "        # match the discrete integer in array\n",
        "        B_index = np.where(A == B_int) \n",
        "        # increment index by one to return position\n",
        "        C = str(B_index[0]+1)\n",
        "        # print quartile results\n",
        "        print(\"Minimum of [\" + str(s) + \", \" +\n",
        "               str(t) + \"] has the value of (\" +\n",
        "               B + \") at position \" + C + \".\")\n",
        " \n",
        "# Driver code\n",
        "if __name__ == \"__main__\":\n",
        "    # measure execution time\n",
        "    start_time = time.time()\n",
        "    # random array size between 4 and 20; 2(n)\n",
        "    sigma = 2*np.random.randint(2, 10)\n",
        "    data_structure_time = time.time()\n",
        "    # initialize random generator\n",
        "    rng = np.random.default_rng()\n",
        "    # ensure integer values are discrete\n",
        "    A = rng.permutation(sigma)\n",
        "    # upper bound of array\n",
        "    n = len(A)\n",
        "    # query four quartiles of array\n",
        "    query_start_time = time.time()   \n",
        "    q = [Query(1, int(len(A)/4)),\n",
        "         Query(int(len(A)/4)+1, int(len(A)/2)),\n",
        "         Query(int(len(A)/2), int(math.ceil(3*len(A)/4))),\n",
        "         Query(int(math.ceil(3*len(A)/4)), int(len(A))-1)]\n",
        "    query_end_time = time.time()\n",
        "\n",
        "    m = len(q)\n",
        "    print(\"A = \", A)   \n",
        "    RMQ(A, n, q, m)\n",
        "    print(\"Array time: %s seconds\" % np.format_float_positional(data_structure_time - start_time))\n",
        "    print(\"Query time: %s seconds\" % np.format_float_positional(query_end_time - query_start_time))\n",
        "    print(\"Total execution time: %s seconds\" % (time.time() - start_time));"
      ],
      "metadata": {
        "colab": {
          "base_uri": "https://localhost:8080/"
        },
        "id": "o4-5809aDHvM",
        "outputId": "e89210ad-69eb-443f-d8cc-b82b327e84f2"
      },
      "execution_count": 158,
      "outputs": [
        {
          "output_type": "stream",
          "name": "stdout",
          "text": [
            "A =  [13  7  2 11  9  1 12  4  6  0 10  3  5  8]\n",
            "Minimum of [1, 3] has the value of (2) at position [3].\n",
            "Minimum of [4, 7] has the value of (1) at position [6].\n",
            "Minimum of [7, 11] has the value of (0) at position [10].\n",
            "Minimum of [11, 13] has the value of (3) at position [12].\n",
            "Array time: 0.000047206878662109375 seconds\n",
            "Query time: 0.000010251998901367188 seconds\n",
            "Total execution time: 0.00107574462890625 seconds\n"
          ]
        }
      ]
    }
  ]
}